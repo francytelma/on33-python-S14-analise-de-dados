{
 "cells": [
  {
   "cell_type": "code",
   "execution_count": null,
   "metadata": {},
   "outputs": [],
   "source": [
    "#customer_id\tcustomer_unique_id\tcustomer_zip_code_prefix\tcustomer_city\tcustomer_state\n",
    "#order_id\torder_item_id\tproduct_id\tseller_id\tshipping_limit_date\tprice\tfreight_value\n",
    "#order_id  customer_id  order_status\torder_purchase_timestamp\torder_approved_at\torder_delivered_carrier_date  order_delivered_customer_date\t order_estimated_delivery_date"
   ]
  },
  {
   "cell_type": "code",
   "execution_count": null,
   "metadata": {},
   "outputs": [],
   "source": [
    "\"customer_id\",\"customer_unique_id\",\"customer_zip_code_prefix\",\"customer_city\",\"customer_state\"\n",
    "\"order_id\",\"order_item_id\",\"product_id\",\"seller_id\",\"shipping_limit_date\",\"price\",\"freight_value\"\n",
    "\"order_id\",\"payment_sequential\",\"payment_type\",\"payment_installments\",\"payment_value\""
   ]
  },
  {
   "cell_type": "code",
   "execution_count": null,
   "metadata": {},
   "outputs": [],
   "source": [
    "df_olist.order_id.nunique()"
   ]
  },
  {
   "cell_type": "code",
   "execution_count": null,
   "metadata": {},
   "outputs": [],
   "source": [
    "df_ano_mes = df_olist.groupby(\"reference_\").agg({\"order_id\":\"nunique\"})\n",
    "df_ano_mes.sum"
   ]
  },
  {
   "cell_type": "code",
   "execution_count": null,
   "metadata": {},
   "outputs": [],
   "source": [
    "plt.figure(figsize=(15,5))\n",
    "sns.lineplot(data=date_sazonality[(date_sazonality.reference_date >= pd.to_datetime(\"2018-01-01\")) & (date_sazonality.reference_date <= pd.to_datetime(\"2018-03-01\"))], \n",
    "             x=\"reference_date\", y=\"order_id\")\n",
    "plt.xticks(rotation=45);"
   ]
  }
 ],
 "metadata": {
  "language_info": {
   "name": "python"
  }
 },
 "nbformat": 4,
 "nbformat_minor": 2
}
